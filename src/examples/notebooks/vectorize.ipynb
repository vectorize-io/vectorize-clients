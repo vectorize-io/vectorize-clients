{
  "nbformat": 4,
  "nbformat_minor": 0,
  "metadata": {
    "colab": {
      "provenance": []
    },
    "kernelspec": {
      "name": "python3",
      "display_name": "Python 3"
    },
    "language_info": {
      "name": "python"
    }
  },
  "cells": [
    {
      "cell_type": "markdown",
      "source": [
        "## Vectorize Python Client Full Tutorial\n",
        ""
      ],
      "metadata": {
        "id": "0May8OtGo-Wj"
      }
    },
    {
      "cell_type": "code",
      "source": [
        "!pip install vectorize-client --upgrade"
      ],
      "metadata": {
        "id": "5Xsx29cqpDhV",
        "colab": {
          "base_uri": "https://localhost:8080/"
        },
        "outputId": "06daf601-2ed5-45f2-b3cb-9c5d8ba85654"
      },
      "execution_count": 3,
      "outputs": [
        {
          "output_type": "stream",
          "name": "stdout",
          "text": [
            "Requirement already satisfied: vectorize-client in /usr/local/lib/python3.11/dist-packages (0.1.2)\n",
            "Requirement already satisfied: pydantic>=2 in /usr/local/lib/python3.11/dist-packages (from vectorize-client) (2.10.6)\n",
            "Requirement already satisfied: python-dateutil>=2.8.2 in /usr/local/lib/python3.11/dist-packages (from vectorize-client) (2.8.2)\n",
            "Requirement already satisfied: typing-extensions>=4.7.1 in /usr/local/lib/python3.11/dist-packages (from vectorize-client) (4.12.2)\n",
            "Requirement already satisfied: urllib3<3.0.0,>=1.25.3 in /usr/local/lib/python3.11/dist-packages (from vectorize-client) (2.3.0)\n",
            "Requirement already satisfied: annotated-types>=0.6.0 in /usr/local/lib/python3.11/dist-packages (from pydantic>=2->vectorize-client) (0.7.0)\n",
            "Requirement already satisfied: pydantic-core==2.27.2 in /usr/local/lib/python3.11/dist-packages (from pydantic>=2->vectorize-client) (2.27.2)\n",
            "Requirement already satisfied: six>=1.5 in /usr/local/lib/python3.11/dist-packages (from python-dateutil>=2.8.2->vectorize-client) (1.17.0)\n"
          ]
        }
      ]
    },
    {
      "cell_type": "code",
      "source": [
        "import getpass\n",
        "org=input(\"Vectorize Organization ID:\")\n",
        "token=getpass.getpass(\"Vectorize Token:\")"
      ],
      "metadata": {
        "colab": {
          "base_uri": "https://localhost:8080/"
        },
        "id": "Wtp1hi4Reh8q",
        "outputId": "39503ec7-e8ca-4ff3-bf3b-ba80fff2af0b"
      },
      "execution_count": 6,
      "outputs": [
        {
          "name": "stdout",
          "output_type": "stream",
          "text": [
            "Vectorize Organization ID:582893ba-291c-4ec7-a6ee-e85c26888817\n",
            "Vectorize Token:··········\n"
          ]
        }
      ]
    },
    {
      "cell_type": "code",
      "source": [
        "import vectorize_client as v\n",
        "\n",
        "\n",
        "api = v.ApiClient(v.Configuration(access_token=token))\n",
        "pipelines = v.PipelinesApi(api)\n",
        "\n",
        "response = pipelines.get_pipelines(org)\n",
        "for pipeline in response.data:\n",
        "    print(\"Pipeline: \" + pipeline.name)"
      ],
      "metadata": {
        "id": "cumZscOzpGoS",
        "colab": {
          "base_uri": "https://localhost:8080/"
        },
        "outputId": "694382e2-27e4-42c2-9da0-304ce9b588ce"
      },
      "execution_count": 13,
      "outputs": [
        {
          "output_type": "stream",
          "name": "stdout",
          "text": [
            "Pipeline: My Pipeline From API\n",
            "Pipeline: from api\n",
            "Pipeline: Test pipeline\n",
            "Pipeline: Test pipeline\n"
          ]
        }
      ]
    },
    {
      "cell_type": "code",
      "source": [
        "!wget https://www.apple.com/newsroom/pdfs/fy2024-q1/FY24_Q1_Consolidated_Financial_Statements.pdf --output-file apple.pdf"
      ],
      "metadata": {
        "id": "sb43XYA1mEfN"
      },
      "execution_count": 25,
      "outputs": []
    },
    {
      "cell_type": "code",
      "source": [
        "connectors_api = v.ConnectorsApi(api)\n",
        "response = connectors_api.create_source_connector(org, [{\n",
        "        \"type\": \"FILE_UPLOAD\",\n",
        "        \"name\": \"From API\"\n",
        "    }])\n",
        "source_connector_id = response.connectors[0].id\n",
        "source_connector_id"
      ],
      "metadata": {
        "colab": {
          "base_uri": "https://localhost:8080/",
          "height": 35
        },
        "id": "FHuFKLufe0fi",
        "outputId": "5d1b887e-1925-4ff9-d44c-3479fa394575"
      },
      "execution_count": 8,
      "outputs": [
        {
          "output_type": "execute_result",
          "data": {
            "text/plain": [
              "'cdfa4981-c0fa-4b1d-9fba-83845cc103f0'"
            ],
            "application/vnd.google.colaboratory.intrinsic+json": {
              "type": "string"
            }
          },
          "metadata": {},
          "execution_count": 8
        }
      ]
    },
    {
      "cell_type": "code",
      "source": [
        "import urllib3, json, os\n",
        "http = urllib3.PoolManager()\n",
        "file_path = \"apple.pdf\"\n",
        "\n",
        "uploads_api = v.UploadsApi(api)\n",
        "\n",
        "metadata = {\"created-from-api\": True}\n",
        "\n",
        "upload_response = uploads_api.start_file_upload_to_connector(\n",
        "        org, source_connector_id, v.StartFileUploadToConnectorRequest(\n",
        "            name=file_path.split(\"/\")[-1],\n",
        "            content_type=\"application/pdf\",\n",
        "            # add additional metadata that will be stored along with each chunk in the vector database\n",
        "            metadata=json.dumps(metadata))\n",
        ")\n",
        "\n",
        "with open(file_path, \"rb\") as f:\n",
        "    response = http.request(\"PUT\", upload_response.upload_url, body=f, headers={\"Content-Type\": \"application/pdf\", \"Content-Length\": str(os.path.getsize(file_path))})\n",
        "if response.status != 200:\n",
        "    print(\"Upload failed: \", response.data)\n",
        "else:\n",
        "    print(\"Upload successful\")"
      ],
      "metadata": {
        "colab": {
          "base_uri": "https://localhost:8080/"
        },
        "id": "TZs5os0Ae4kb",
        "outputId": "3f47b11e-556b-464b-e3a4-4ebca7bfba52"
      },
      "execution_count": 10,
      "outputs": [
        {
          "output_type": "stream",
          "name": "stdout",
          "text": [
            "Upload successful\n"
          ]
        }
      ]
    },
    {
      "cell_type": "code",
      "source": [
        "ai_platforms = connectors_api.get_ai_platform_connectors(org)\n",
        "builtin_ai_platform = [c.id for c in ai_platforms.ai_platform_connectors if c.type == \"VECTORIZE\"][0]\n",
        "\n",
        "vector_databases = connectors_api.get_destination_connectors(org)\n",
        "builtin_vector_db = [c.id for c in vector_databases.destination_connectors if c.type == \"VECTORIZE\"][0]"
      ],
      "metadata": {
        "id": "3rqzxB3aeoif"
      },
      "execution_count": 11,
      "outputs": []
    },
    {
      "cell_type": "code",
      "source": [
        "response = pipelines.create_pipeline(org, v.PipelineConfigurationSchema(\n",
        "    source_connectors=[v.SourceConnectorSchema(id=source_connector_id, type=\"FILE_UPLOAD\", config={})],\n",
        "    destination_connector=v.DestinationConnectorSchema(id=builtin_vector_db, type=\"VECTORIZE\", config={}),\n",
        "    ai_platform=v.AIPlatformSchema(id=builtin_ai_platform, type=\"VECTORIZE\", config={}),\n",
        "    pipeline_name=\"My Pipeline From API\",\n",
        "    schedule=v.ScheduleSchema(type=\"manual\")\n",
        "))\n",
        "pipeline_id = response.data.id\n",
        "pipeline_id"
      ],
      "metadata": {
        "colab": {
          "base_uri": "https://localhost:8080/",
          "height": 35
        },
        "id": "59b9VSaykDSh",
        "outputId": "f43499ce-08e3-4f23-c502-cead17f2e1c0"
      },
      "execution_count": 12,
      "outputs": [
        {
          "output_type": "execute_result",
          "data": {
            "text/plain": [
              "'aipf9ab5-702c-40de-a2f7-8a2139129ba5'"
            ],
            "application/vnd.google.colaboratory.intrinsic+json": {
              "type": "string"
            }
          },
          "metadata": {},
          "execution_count": 12
        }
      ]
    },
    {
      "cell_type": "code",
      "source": [
        "pipelines = v.PipelinesApi(api)\n",
        "response = pipelines.retrieve_documents(org, pipeline_id, v.RetrieveDocumentsRequest(\n",
        "    question=\"Apple RSU activity\",\n",
        "    num_results=5,\n",
        "))\n",
        "print(response)\n",
        "for doc in response.documents:\n",
        "  print(str(doc.relevancy) +\" - \" + doc.text)"
      ],
      "metadata": {
        "colab": {
          "base_uri": "https://localhost:8080/"
        },
        "id": "kojblgh4kG5G",
        "outputId": "f3bc13fa-cf16-49be-ca2f-8392da3c0701"
      },
      "execution_count": 15,
      "outputs": [
        {
          "output_type": "stream",
          "name": "stdout",
          "text": [
            "question='Apple RSU activity' documents=[Document(relevancy=0.9959771, id='bd649160-a790-4b81-a4f4-4655ffe3a71f-87ac4bd677c3b84b4634c5da51427f20a2ab140e4b56b213cd3f4a0f1c356e27-84', text='2014 Employee Stock Plan\\n\\nThe Apple Inc. 2014 Employee Stock Plan, as amended and restated (the “2014 Plan”), is a shareholder-approved plan that\\nprovided for broad-based equity grants to employees, including executive officers. The 2014 Plan permitted the granting of the\\nsame types of equity awards with substantially the same terms as the 2022 Plan. The 2014 Plan also permitted the granting of\\ncash bonus awards. In the third quarter of 2022, the Company terminated the authority to grant new awards under the 2014\\nPlan.\\n\\nApple Inc. | 2024 Form 10-K | 44\\n\\n\\nRestricted Stock Units\\n\\nA summary of the Company’s RSU activity and related information for 2024, 2023 and 2022, is as follows:\\n\\nNumber of\\nRSUs\\n\\n(in thousands)\\n\\nWeighted-Average\\nGrant-Date Fair\\nValue Per RSU\\n\\nAggregate\\nFair Value\\n(in millions)\\n\\nBalance as of September 25, 2021 240,427 $ 75.16\\n\\nRSUs granted 91,674 $ 150.70\\n\\nRSUs vested (115,861) $ 72.12\\n\\nRSUs canceled (14,739) $ 99.77\\n\\nBalance as of September 24, 2022 201,501 $ 109.48\\n\\nRSUs granted 88,768 $ 150.87\\n\\nRSUs vested (101,878) $ 97.31\\n\\nRSUs canceled (8,144) $ 127.98\\n\\nBalance as of September 30, 2023 180,247 $ 135.91\\n\\nRSUs granted 80,456 $ 173.78\\n\\nRSUs vested (87,633) $ 127.59\\n\\nRSUs canceled (9,744) $ 140.80\\n\\nBalance as of September 28, 2024 163,326 $ 158.73 $ 37,204', chunk_id='84', total_chunks='229', origin='file-upload', origin_id='bd649160-a790-4b81-a4f4-4655ffe3a71f', similarity=0.77146006, source='582893ba-291c-4ec7-a6ee-e85c26888817/cdfa4981-c0fa-4b1d-9fba-83845cc103f0/apple.pdf', unique_source='bd649160-a790-4b81-a4f4-4655ffe3a71f-87ac4bd677c3b84b4634c5da51427f20a2ab140e4b56b213cd3f4a0f1c356e27', source_display_name='582893ba-291c-4ec7-a6ee-e85c26888817/cdfa4981-c0fa-4b1d-9fba-83845cc103f0/apple.pdf', pipeline_id='aipf9ab5-702c-40de-a2f7-8a2139129ba5', org_id='582893ba-291c-4ec7-a6ee-e85c26888817', additional_properties={'index': 'sp-1536-dev', 'metadata': {'created-from-api': True}}), Document(relevancy=0.5240598, id='bd649160-a790-4b81-a4f4-4655ffe3a71f-87ac4bd677c3b84b4634c5da51427f20a2ab140e4b56b213cd3f4a0f1c356e27-150', text='Exhibit 10.19\\n\\n\\nAPPLE INC.\\n2022 EMPLOYEE STOCK PLAN\\n\\nRESTRICTED STOCK UNIT AWARD AGREEMENT\\n\\nTERMS AND CONDITIONS OF RESTRICTED STOCK UNIT AWARD\\n\\n1. General. These Terms and Conditions of Restricted Stock Unit Award (these “Terms”)\\napply to a particular restricted stock unit award (the “Award”) granted by Apple Inc., a California\\ncorporation (the “Company”), and are incorporated by reference in the Notice of Grant (the “Grant\\nNotice”) corresponding to that particular grant. The recipient of the Award identified in the Grant Notice is\\nreferred to as the “Participant.” The effective date of grant of the Award as set forth in the Grant Notice is\\nreferred to as the “Award Date.” The Award was granted under and is subject to the provisions of the\\nApple Inc. 2022 Employee Stock Plan, as amended from time to time (the “Plan”). Capitalized terms are\\ndefined in the Plan if not defined herein. The Award is discretionary and has been granted to the\\nParticipant in addition to, and not in lieu of, any other form of compensation otherwise payable or to be\\npaid to the Participant. The Grant Notice and these Terms are collectively referred to as the “Award\\nAgreement” applicable to the Award.\\n\\n2. RSUs. As used herein, the term “RSU” shall mean a non-voting unit of measurement\\nwhich is deemed for bookkeeping purposes to be equivalent to one outstanding Share solely for purposes\\nof the Plan and this Award Agreement. RSUs shall be used solely as a device for the determination of the\\nShares eventually to be issued to the Participant if such RSUs vest pursuant to this Award Agreement.\\nThe RSUs are an unfunded and unsecured right to receive Shares and shall not be treated as property or\\nas a trust fund of any kind.', chunk_id='150', total_chunks='229', origin='file-upload', origin_id='bd649160-a790-4b81-a4f4-4655ffe3a71f', similarity=0.75434494, source='582893ba-291c-4ec7-a6ee-e85c26888817/cdfa4981-c0fa-4b1d-9fba-83845cc103f0/apple.pdf', unique_source='bd649160-a790-4b81-a4f4-4655ffe3a71f-87ac4bd677c3b84b4634c5da51427f20a2ab140e4b56b213cd3f4a0f1c356e27', source_display_name='582893ba-291c-4ec7-a6ee-e85c26888817/cdfa4981-c0fa-4b1d-9fba-83845cc103f0/apple.pdf', pipeline_id='aipf9ab5-702c-40de-a2f7-8a2139129ba5', org_id='582893ba-291c-4ec7-a6ee-e85c26888817', additional_properties={'index': 'sp-1536-dev', 'metadata': {'created-from-api': True}}), Document(relevancy=0.46717983, id='bd649160-a790-4b81-a4f4-4655ffe3a71f-87ac4bd677c3b84b4634c5da51427f20a2ab140e4b56b213cd3f4a0f1c356e27-181', text='You do not have to accept the Award. If you wish to decline your Award, you should promptly\\nnotify Apple Inc.’s Stock Plan Group of your decision at peoplesupport@apple.com. If you do not provide\\nsuch notification by the last day of the calendar month prior to the first Vesting Date, you will be deemed\\nto have accepted your Award on the terms and conditions set forth herein.\\n\\nExhibit 10.21\\n\\n\\nAPPLE INC.\\n2022 EMPLOYEE STOCK PLAN\\n\\nRESTRICTED STOCK UNIT AWARD AGREEMENT\\n\\nTERMS AND CONDITIONS OF RESTRICTED STOCK UNIT AWARD\\n\\n1. General. These Terms and Conditions of Restricted Stock Unit Award (these “Terms”)\\napply to a particular restricted stock unit award (the “Award”) granted by Apple Inc., a California\\ncorporation (the “Company”), and are incorporated by reference in the Notice of Grant (the “Grant\\nNotice”) corresponding to that particular grant. The recipient of the Award identified in the Grant Notice is\\nreferred to as the “Participant.” The effective date of grant of the Award as set forth in the Grant Notice\\nis referred to as the “Award Date.” The Award was granted under and is subject to the provisions of the\\nApple Inc. 2022 Employee Stock Plan, as amended from time to time (the “Plan”). Capitalized terms are\\ndefined in the Plan if not defined herein. The Award is discretionary and has been granted to the\\nParticipant in addition to, and not in lieu of, any other form of compensation otherwise payable or to be\\npaid to the Participant. The Grant Notice and these Terms are collectively referred to as the “Award\\nAgreement” applicable to the Award.\\n\\n2. RSUs. As used herein, the term “RSU” shall mean a non-voting unit of measurement\\nwhich is deemed for bookkeeping purposes to be equivalent to one outstanding Share solely for purposes\\nof the Plan and this Award Agreement. RSUs shall be used solely as a device for the determination of\\nthe Shares eventually to be issued to the Participant if such RSUs vest pursuant to this Award\\nAgreement. The RSUs are an unfunded and unsecured right to receive Shares and shall not be treated\\nas property or as a trust fund of any kind.', chunk_id='181', total_chunks='229', origin='file-upload', origin_id='bd649160-a790-4b81-a4f4-4655ffe3a71f', similarity=0.73990107, source='582893ba-291c-4ec7-a6ee-e85c26888817/cdfa4981-c0fa-4b1d-9fba-83845cc103f0/apple.pdf', unique_source='bd649160-a790-4b81-a4f4-4655ffe3a71f-87ac4bd677c3b84b4634c5da51427f20a2ab140e4b56b213cd3f4a0f1c356e27', source_display_name='582893ba-291c-4ec7-a6ee-e85c26888817/cdfa4981-c0fa-4b1d-9fba-83845cc103f0/apple.pdf', pipeline_id='aipf9ab5-702c-40de-a2f7-8a2139129ba5', org_id='582893ba-291c-4ec7-a6ee-e85c26888817', additional_properties={'index': 'sp-1536-dev', 'metadata': {'created-from-api': True}}), Document(relevancy=0.4115838, id='bd649160-a790-4b81-a4f4-4655ffe3a71f-87ac4bd677c3b84b4634c5da51427f20a2ab140e4b56b213cd3f4a0f1c356e27-164', text='Exhibit 10.20\\n\\n\\nAPPLE INC.\\n2022 EMPLOYEE STOCK PLAN\\n\\nRESTRICTED STOCK UNIT AWARD AGREEMENT\\n\\nTERMS AND CONDITIONS OF RESTRICTED STOCK UNIT AWARD\\n\\nPERFORMANCE AWARD\\n\\n1. General. These Terms and Conditions of Restricted Stock Unit Award - Performance\\nAward (these “Terms”) apply to a particular restricted stock unit award (the “Award”) granted by Apple\\nInc., a California corporation (the “Company”), and are incorporated by reference in the Notice of Grant\\n(the “Grant Notice”) corresponding to that particular grant. The recipient of the Award identified in the\\nGrant Notice is referred to as the “Participant.” The effective date of grant of the Award as set forth in the\\nGrant Notice is referred to as the “Award Date.” The Award was granted under and is subject to the\\nprovisions of the Apple Inc. 2022 Employee Stock Plan, as amended from time to time (the “Plan”).\\nCapitalized terms are defined in the Plan if not defined herein. The Award is discretionary and has been\\ngranted to the Participant in addition to, and not in lieu of, any other form of compensation otherwise\\npayable or to be paid to the Participant. The Grant Notice and these Terms (including Exhibit A hereto,\\nincorporated herein by this reference) are collectively referred to as the “Award Agreement” applicable to\\nthe Award.\\n\\n2. RSUs. As used herein, the term “RSU” shall mean a non-voting unit of measurement\\nwhich is deemed for bookkeeping purposes to be equivalent to one outstanding Share solely for purposes\\nof the Plan and this Award Agreement. The RSUs shall be used solely as a device for the determination\\nof the Shares eventually to be issued to the Participant if such RSUs vest pursuant to this Award\\nAgreement. The RSUs are an unfunded and unsecured right to receive Shares and shall not be treated\\nas property or as a trust fund of any kind.\\n\\n3. Vesting. Subject to Sections 4 and 8 below, the Award shall vest and become\\nnonforfeitable as set forth in the Grant Notice and Exhibit A hereto. (The vesting date set forth in the\\nGrant Notice is referred to herein as a “Vesting Date”).', chunk_id='164', total_chunks='229', origin='file-upload', origin_id='bd649160-a790-4b81-a4f4-4655ffe3a71f', similarity=0.7361398, source='582893ba-291c-4ec7-a6ee-e85c26888817/cdfa4981-c0fa-4b1d-9fba-83845cc103f0/apple.pdf', unique_source='bd649160-a790-4b81-a4f4-4655ffe3a71f-87ac4bd677c3b84b4634c5da51427f20a2ab140e4b56b213cd3f4a0f1c356e27', source_display_name='582893ba-291c-4ec7-a6ee-e85c26888817/cdfa4981-c0fa-4b1d-9fba-83845cc103f0/apple.pdf', pipeline_id='aipf9ab5-702c-40de-a2f7-8a2139129ba5', org_id='582893ba-291c-4ec7-a6ee-e85c26888817', additional_properties={'index': 'sp-1536-dev', 'metadata': {'created-from-api': True}}), Document(relevancy=0.0019418169, id='bd649160-a790-4b81-a4f4-4655ffe3a71f-87ac4bd677c3b84b4634c5da51427f20a2ab140e4b56b213cd3f4a0f1c356e27-85', text='RSUs canceled (9,744) $ 140.80\\n\\nBalance as of September 28, 2024 163,326 $ 158.73 $ 37,204\\n\\nThe fair value as of the respective vesting dates of RSUs was $15.8 billion, $15.9 billion and $18.2 billion for 2024, 2023 and\\n2022, respectively. The majority of RSUs that vested in 2024, 2023 and 2022 were net share settled such that the Company\\nwithheld shares with a value equivalent to the employees’ obligation for the applicable income and other employment taxes, and\\nremitted cash to the appropriate taxing authorities. The total shares withheld were approximately 31 million, 37 million and 41\\nmillion for 2024, 2023 and 2022, respectively, and were based on the value of the RSUs on their respective vesting dates as\\ndetermined by the Company’s closing stock price. Total payments to taxing authorities for employees’ tax obligations were $5.6\\nbillion in both 2024 and 2023 and $6.4 billion in 2022.\\n\\nShare-Based Compensation\\n\\nThe following table shows share-based compensation expense and the related income tax benefit included in the Consolidated\\nStatements of Operations for 2024, 2023 and 2022 (in millions):\\n\\n2024 2023 2022\\n\\nShare-based compensation expense $ 11,688 $ 10,833 $ 9,038\\n\\nIncome tax benefit related to share-based compensation expense $ (3,350) $ (3,421) $ (4,002)\\n\\nAs of September\\xa028, 2024, the total unrecognized compensation cost related to outstanding RSUs was $19.4 billion, which the\\nCompany expects to recognize over a weighted-average period of 2.4 years.\\n\\nNote 12 – Commitments, Contingencies and Supply Concentrations\\n\\nUnconditional Purchase Obligations', chunk_id='85', total_chunks='229', origin='file-upload', origin_id='bd649160-a790-4b81-a4f4-4655ffe3a71f', similarity=0.7434144, source='582893ba-291c-4ec7-a6ee-e85c26888817/cdfa4981-c0fa-4b1d-9fba-83845cc103f0/apple.pdf', unique_source='bd649160-a790-4b81-a4f4-4655ffe3a71f-87ac4bd677c3b84b4634c5da51427f20a2ab140e4b56b213cd3f4a0f1c356e27', source_display_name='582893ba-291c-4ec7-a6ee-e85c26888817/cdfa4981-c0fa-4b1d-9fba-83845cc103f0/apple.pdf', pipeline_id='aipf9ab5-702c-40de-a2f7-8a2139129ba5', org_id='582893ba-291c-4ec7-a6ee-e85c26888817', additional_properties={'index': 'sp-1536-dev', 'metadata': {'created-from-api': True}})] average_relevancy=0.48014846938 ndcg=1\n",
            "0.9959771 - 2014 Employee Stock Plan\n",
            "\n",
            "The Apple Inc. 2014 Employee Stock Plan, as amended and restated (the “2014 Plan”), is a shareholder-approved plan that\n",
            "provided for broad-based equity grants to employees, including executive officers. The 2014 Plan permitted the granting of the\n",
            "same types of equity awards with substantially the same terms as the 2022 Plan. The 2014 Plan also permitted the granting of\n",
            "cash bonus awards. In the third quarter of 2022, the Company terminated the authority to grant new awards under the 2014\n",
            "Plan.\n",
            "\n",
            "Apple Inc. | 2024 Form 10-K | 44\n",
            "\n",
            "\n",
            "Restricted Stock Units\n",
            "\n",
            "A summary of the Company’s RSU activity and related information for 2024, 2023 and 2022, is as follows:\n",
            "\n",
            "Number of\n",
            "RSUs\n",
            "\n",
            "(in thousands)\n",
            "\n",
            "Weighted-Average\n",
            "Grant-Date Fair\n",
            "Value Per RSU\n",
            "\n",
            "Aggregate\n",
            "Fair Value\n",
            "(in millions)\n",
            "\n",
            "Balance as of September 25, 2021 240,427 $ 75.16\n",
            "\n",
            "RSUs granted 91,674 $ 150.70\n",
            "\n",
            "RSUs vested (115,861) $ 72.12\n",
            "\n",
            "RSUs canceled (14,739) $ 99.77\n",
            "\n",
            "Balance as of September 24, 2022 201,501 $ 109.48\n",
            "\n",
            "RSUs granted 88,768 $ 150.87\n",
            "\n",
            "RSUs vested (101,878) $ 97.31\n",
            "\n",
            "RSUs canceled (8,144) $ 127.98\n",
            "\n",
            "Balance as of September 30, 2023 180,247 $ 135.91\n",
            "\n",
            "RSUs granted 80,456 $ 173.78\n",
            "\n",
            "RSUs vested (87,633) $ 127.59\n",
            "\n",
            "RSUs canceled (9,744) $ 140.80\n",
            "\n",
            "Balance as of September 28, 2024 163,326 $ 158.73 $ 37,204\n",
            "0.5240598 - Exhibit 10.19\n",
            "\n",
            "\n",
            "APPLE INC.\n",
            "2022 EMPLOYEE STOCK PLAN\n",
            "\n",
            "RESTRICTED STOCK UNIT AWARD AGREEMENT\n",
            "\n",
            "TERMS AND CONDITIONS OF RESTRICTED STOCK UNIT AWARD\n",
            "\n",
            "1. General. These Terms and Conditions of Restricted Stock Unit Award (these “Terms”)\n",
            "apply to a particular restricted stock unit award (the “Award”) granted by Apple Inc., a California\n",
            "corporation (the “Company”), and are incorporated by reference in the Notice of Grant (the “Grant\n",
            "Notice”) corresponding to that particular grant. The recipient of the Award identified in the Grant Notice is\n",
            "referred to as the “Participant.” The effective date of grant of the Award as set forth in the Grant Notice is\n",
            "referred to as the “Award Date.” The Award was granted under and is subject to the provisions of the\n",
            "Apple Inc. 2022 Employee Stock Plan, as amended from time to time (the “Plan”). Capitalized terms are\n",
            "defined in the Plan if not defined herein. The Award is discretionary and has been granted to the\n",
            "Participant in addition to, and not in lieu of, any other form of compensation otherwise payable or to be\n",
            "paid to the Participant. The Grant Notice and these Terms are collectively referred to as the “Award\n",
            "Agreement” applicable to the Award.\n",
            "\n",
            "2. RSUs. As used herein, the term “RSU” shall mean a non-voting unit of measurement\n",
            "which is deemed for bookkeeping purposes to be equivalent to one outstanding Share solely for purposes\n",
            "of the Plan and this Award Agreement. RSUs shall be used solely as a device for the determination of the\n",
            "Shares eventually to be issued to the Participant if such RSUs vest pursuant to this Award Agreement.\n",
            "The RSUs are an unfunded and unsecured right to receive Shares and shall not be treated as property or\n",
            "as a trust fund of any kind.\n",
            "0.46717983 - You do not have to accept the Award. If you wish to decline your Award, you should promptly\n",
            "notify Apple Inc.’s Stock Plan Group of your decision at peoplesupport@apple.com. If you do not provide\n",
            "such notification by the last day of the calendar month prior to the first Vesting Date, you will be deemed\n",
            "to have accepted your Award on the terms and conditions set forth herein.\n",
            "\n",
            "Exhibit 10.21\n",
            "\n",
            "\n",
            "APPLE INC.\n",
            "2022 EMPLOYEE STOCK PLAN\n",
            "\n",
            "RESTRICTED STOCK UNIT AWARD AGREEMENT\n",
            "\n",
            "TERMS AND CONDITIONS OF RESTRICTED STOCK UNIT AWARD\n",
            "\n",
            "1. General. These Terms and Conditions of Restricted Stock Unit Award (these “Terms”)\n",
            "apply to a particular restricted stock unit award (the “Award”) granted by Apple Inc., a California\n",
            "corporation (the “Company”), and are incorporated by reference in the Notice of Grant (the “Grant\n",
            "Notice”) corresponding to that particular grant. The recipient of the Award identified in the Grant Notice is\n",
            "referred to as the “Participant.” The effective date of grant of the Award as set forth in the Grant Notice\n",
            "is referred to as the “Award Date.” The Award was granted under and is subject to the provisions of the\n",
            "Apple Inc. 2022 Employee Stock Plan, as amended from time to time (the “Plan”). Capitalized terms are\n",
            "defined in the Plan if not defined herein. The Award is discretionary and has been granted to the\n",
            "Participant in addition to, and not in lieu of, any other form of compensation otherwise payable or to be\n",
            "paid to the Participant. The Grant Notice and these Terms are collectively referred to as the “Award\n",
            "Agreement” applicable to the Award.\n",
            "\n",
            "2. RSUs. As used herein, the term “RSU” shall mean a non-voting unit of measurement\n",
            "which is deemed for bookkeeping purposes to be equivalent to one outstanding Share solely for purposes\n",
            "of the Plan and this Award Agreement. RSUs shall be used solely as a device for the determination of\n",
            "the Shares eventually to be issued to the Participant if such RSUs vest pursuant to this Award\n",
            "Agreement. The RSUs are an unfunded and unsecured right to receive Shares and shall not be treated\n",
            "as property or as a trust fund of any kind.\n",
            "0.4115838 - Exhibit 10.20\n",
            "\n",
            "\n",
            "APPLE INC.\n",
            "2022 EMPLOYEE STOCK PLAN\n",
            "\n",
            "RESTRICTED STOCK UNIT AWARD AGREEMENT\n",
            "\n",
            "TERMS AND CONDITIONS OF RESTRICTED STOCK UNIT AWARD\n",
            "\n",
            "PERFORMANCE AWARD\n",
            "\n",
            "1. General. These Terms and Conditions of Restricted Stock Unit Award - Performance\n",
            "Award (these “Terms”) apply to a particular restricted stock unit award (the “Award”) granted by Apple\n",
            "Inc., a California corporation (the “Company”), and are incorporated by reference in the Notice of Grant\n",
            "(the “Grant Notice”) corresponding to that particular grant. The recipient of the Award identified in the\n",
            "Grant Notice is referred to as the “Participant.” The effective date of grant of the Award as set forth in the\n",
            "Grant Notice is referred to as the “Award Date.” The Award was granted under and is subject to the\n",
            "provisions of the Apple Inc. 2022 Employee Stock Plan, as amended from time to time (the “Plan”).\n",
            "Capitalized terms are defined in the Plan if not defined herein. The Award is discretionary and has been\n",
            "granted to the Participant in addition to, and not in lieu of, any other form of compensation otherwise\n",
            "payable or to be paid to the Participant. The Grant Notice and these Terms (including Exhibit A hereto,\n",
            "incorporated herein by this reference) are collectively referred to as the “Award Agreement” applicable to\n",
            "the Award.\n",
            "\n",
            "2. RSUs. As used herein, the term “RSU” shall mean a non-voting unit of measurement\n",
            "which is deemed for bookkeeping purposes to be equivalent to one outstanding Share solely for purposes\n",
            "of the Plan and this Award Agreement. The RSUs shall be used solely as a device for the determination\n",
            "of the Shares eventually to be issued to the Participant if such RSUs vest pursuant to this Award\n",
            "Agreement. The RSUs are an unfunded and unsecured right to receive Shares and shall not be treated\n",
            "as property or as a trust fund of any kind.\n",
            "\n",
            "3. Vesting. Subject to Sections 4 and 8 below, the Award shall vest and become\n",
            "nonforfeitable as set forth in the Grant Notice and Exhibit A hereto. (The vesting date set forth in the\n",
            "Grant Notice is referred to herein as a “Vesting Date”).\n",
            "0.0019418169 - RSUs canceled (9,744) $ 140.80\n",
            "\n",
            "Balance as of September 28, 2024 163,326 $ 158.73 $ 37,204\n",
            "\n",
            "The fair value as of the respective vesting dates of RSUs was $15.8 billion, $15.9 billion and $18.2 billion for 2024, 2023 and\n",
            "2022, respectively. The majority of RSUs that vested in 2024, 2023 and 2022 were net share settled such that the Company\n",
            "withheld shares with a value equivalent to the employees’ obligation for the applicable income and other employment taxes, and\n",
            "remitted cash to the appropriate taxing authorities. The total shares withheld were approximately 31 million, 37 million and 41\n",
            "million for 2024, 2023 and 2022, respectively, and were based on the value of the RSUs on their respective vesting dates as\n",
            "determined by the Company’s closing stock price. Total payments to taxing authorities for employees’ tax obligations were $5.6\n",
            "billion in both 2024 and 2023 and $6.4 billion in 2022.\n",
            "\n",
            "Share-Based Compensation\n",
            "\n",
            "The following table shows share-based compensation expense and the related income tax benefit included in the Consolidated\n",
            "Statements of Operations for 2024, 2023 and 2022 (in millions):\n",
            "\n",
            "2024 2023 2022\n",
            "\n",
            "Share-based compensation expense $ 11,688 $ 10,833 $ 9,038\n",
            "\n",
            "Income tax benefit related to share-based compensation expense $ (3,350) $ (3,421) $ (4,002)\n",
            "\n",
            "As of September 28, 2024, the total unrecognized compensation cost related to outstanding RSUs was $19.4 billion, which the\n",
            "Company expects to recognize over a weighted-average period of 2.4 years.\n",
            "\n",
            "Note 12 – Commitments, Contingencies and Supply Concentrations\n",
            "\n",
            "Unconditional Purchase Obligations\n"
          ]
        }
      ]
    },
    {
      "cell_type": "code",
      "source": [
        "pipelines_api = v.PipelinesApi(api)\n",
        "response = pipelines.start_deep_research(org, pipeline_id, v.StartDeepResearchRequest(\n",
        "        # make sure to include a relevant prompt here\n",
        "        query=\"Generate a report on Apple RSE 2024\",\n",
        "        # optionally enable additional search on the web\n",
        "        web_search=False,\n",
        "))\n",
        "research_id = response.research_id"
      ],
      "metadata": {
        "id": "OpQOFFtTpkTI"
      },
      "execution_count": 17,
      "outputs": []
    },
    {
      "cell_type": "code",
      "source": [
        "while True:\n",
        "    response = pipelines.get_deep_research_result(org, pipeline_id, research_id)\n",
        "    if response.ready:\n",
        "        if response.data.success:\n",
        "            print(response.data.markdown)\n",
        "        else:\n",
        "            print(\"Deep Research failed: \", response.data.error)\n",
        "        break\n",
        "    print(\"not ready\")"
      ],
      "metadata": {
        "id": "Mv_Uz4dnlFJv"
      },
      "execution_count": null,
      "outputs": []
    },
    {
      "cell_type": "code",
      "source": [
        "from pathlib import Path\n",
        "import urllib3, os\n",
        "\n",
        "files_api = v.FilesApi(api)\n",
        "\n",
        "content_type=\"application/pdf\"\n",
        "file_path=\"apple.pdf\"\n",
        "\n",
        "start_file_upload_response = files_api.start_file_upload(org, start_file_upload_request=v.StartFileUploadRequest(\n",
        "    content_type=content_type,\n",
        "    name=\"My file.pdf\",\n",
        "))\n",
        "\n",
        "http = urllib3.PoolManager()\n",
        "\n",
        "with open(file_path, \"rb\") as f:\n",
        "    response = http.request(\"PUT\", start_file_upload_response.upload_url, body=f, headers={\"Content-Type\": \"application/pdf\", \"Content-Length\": str(os.path.getsize(file_path))})\n",
        "    if response.status != 200:\n",
        "        print(\"Upload failed: \", response.data)\n",
        "    else:\n",
        "        print(\"Upload successful\")\n",
        "\n",
        "extraction_api = v.ExtractionApi(api)\n",
        "\n",
        "response = extraction_api.start_extraction(org, start_extraction_request=v.StartExtractionRequest(\n",
        "        file_id=start_file_upload_response.file_id\n",
        "))\n",
        "extraction_id = response.extraction_id"
      ],
      "metadata": {
        "colab": {
          "base_uri": "https://localhost:8080/"
        },
        "id": "IdQ_8YqxlSWB",
        "outputId": "0bdb6c17-b4da-4182-9acb-076d08f5e3f2"
      },
      "execution_count": 22,
      "outputs": [
        {
          "output_type": "stream",
          "name": "stdout",
          "text": [
            "Upload successful\n"
          ]
        }
      ]
    },
    {
      "cell_type": "code",
      "source": [
        "while True:\n",
        "    response = extraction_api.get_extraction_result(org, extraction_id)\n",
        "    if response.ready:\n",
        "        if response.data.success:\n",
        "            print(response.data.text)\n",
        "        else:\n",
        "            print(\"Extraction failed: \", response.data.error)\n",
        "        break\n",
        "    print(\"not ready\")"
      ],
      "metadata": {
        "colab": {
          "base_uri": "https://localhost:8080/"
        },
        "id": "IcH39iwqlU2t",
        "outputId": "453c6dba-03c1-4ae7-d38f-1c92906d4d0e"
      },
      "execution_count": 23,
      "outputs": [
        {
          "output_type": "stream",
          "name": "stdout",
          "text": [
            "not ready\n",
            "not ready\n",
            "not ready\n",
            "not ready\n",
            "not ready\n",
            "not ready\n",
            "not ready\n",
            "not ready\n",
            "not ready\n",
            "not ready\n",
            "not ready\n",
            "# Financial Report of Apple Inc. for the Fiscal Year 2024\n",
            "\n",
            "## A Comprehensive Analysis of Financial Performance, Risks, and Future Outlook\n",
            "\n",
            "## Executive Summary\n",
            "\n",
            "This report provides an in-depth analysis of Apple Inc.'s financial status for the fiscal year 2024. It summarizes key financial performance indicators, including revenue, profitability, cash flow, and significant financial risks. The report also examines market performance and future outlook, offering insights into the company's strategic initiatives and potential challenges.\n",
            "\n",
            "## Table of Contents\n",
            "\n",
            "1. Company Overview\n",
            "\n",
            "* Company Background\n",
            "* Key Business Segments\n",
            "* Market Position\n",
            "\n",
            "2. Financial Highlights\n",
            "\n",
            "* Revenue Summary\n",
            "* Profitability Metrics\n",
            "* Cash Flow Overview\n",
            "\n",
            "3. Balance Sheet Analysis\n",
            "\n",
            "* Assets Breakdown\n",
            "* Liabilities Overview\n",
            "* Shareholders' Equity\n",
            "\n",
            "4. Income Statement Analysis\n",
            "\n",
            "* Revenue Sources\n",
            "* Operating Expenses\n",
            "* Net Profit Analysis\n",
            "\n",
            "5. Cash Flow Statement Analysis\n",
            "\n",
            "* Operating Cash Flow\n",
            "* Investing Cash Flow\n",
            "* Financing Cash Flow\n",
            "\n",
            "6. Key. Financial Ratios\n",
            "\n",
            "* Liquidity Ratios\n",
            "* Profitability Ratios\n",
            "* Leverage Ratios\n",
            "\n",
            "7. Market Performance\n",
            "\n",
            "* Stock Price Trends\n",
            "* Market Capitalization\n",
            "* Dividend Policy\n",
            "\n",
            "8. Risk Factors and Challenges\n",
            "\n",
            "* Industry Risks\n",
            "* Operational Risks\n",
            "* Financial Risks\n",
            "\n",
            "9. Future Outlook and Projections\n",
            "\n",
            "* Revenue Projections\n",
            "* Planned Investments\n",
            "* Challenges and Opportunities\n",
            "\n",
            "10. Conclusion\n",
            "11. Appendices\n",
            "\n",
            "* Financial Statements\n",
            "* Supporting Charts and Graphs\n",
            "* References\n",
            "\n",
            "## Company Overview\n",
            "\n",
            "## Company Background\n",
            "\n",
            "Apple Inc. is a multinational technology company that designs, develops, and sells consumer electronics, computer software, and online services. Apple was incorporated in 1977 and is headquartered in Cupertino, California. The company's mission is to bring the best user experience to its customers through its innovative hardware, software, and services. Apple's vision is to create products that empower people and enrich their lives.\n",
            "\n",
            "## Key Business Segments\n",
            "\n",
            "Apple's main revenue streams are categorized into products and services. Products include iPhone, Mac, iPad, Wearables, Home and Accessories (WHA). Services include digital content stores, cloud services, AppleCare, and payment services.\n",
            "\n",
            "## Market Position\n",
            "\n",
            "Apple is a leading player in the technology industry, known for its premium brand, loyal customer base, and innovative products. The company faces competition from other tech giants like Samsung, Google, and Microsoft. Industry trends such as the increasing demand for mobile devices, cloud services, and wearable technology significantly affect Apple's market position.\n",
            "\n",
            "## Financial Highlights\n",
            "\n",
            "## Revenue Summary\n",
            "\n",
            "Apple records revenue net of taxes collected from customers that are remitted to governmental authorities \\[09ceb270-3062-453b-b761-9981bd624649/879370ea-b84f-48e7-809c-c86b5ba60184/apple.pdf\\]. The company recognizes revenue at the amount to which it expects to be entitled when control of the products or services is transferred to its customers \\[09ceb270-3062-453b-b761-9981bd624649/879370ea-b84f-48e7-809c-c86b5ba60184/apple.pdf\\].\n",
            "\n",
            "## Profitability Metrics\n",
            "\n",
            "The Company's profit margins vary across its products, services, geographic segments and distribution channels \\[09ceb270-3062-453b-b761-9981bd624649/879370ea-b84f-48e7-809c-c86b5ba60184/apple.pdf\\]. The gross margins on the Company's products and services vary significantly and can change over time \\[09ceb270-3062-453b-b761-9981bd624649/879370ea-b84f-48e7-809c-c86b5ba60184/apple.pdf\\].\n",
            "\n",
            "## Cash Flow Overview\n",
            "\n",
            "| Cash Flow Activity | Amount (USD) |\n",
            "| ------------------ | ------------ |\n",
            "| Investing Activities | 2,935 |\n",
            "| Payments for income taxes, net | 26,102 |\n",
            "\n",
            "## Balance Sheet Analysis\n",
            "\n",
            "## Assets Breakdown\n",
            "\n",
            "The Company presents derivative assets and liabilities at Liabilities their gross fair values in the Consolidated Balance Sheets \\[09ceb270-3062-453b-b761- 9981bd624649/879370ea-b84f-48e7-809c-c86b5ba60184/apple.pdf\\].\n",
            "\n",
            "## Overview\n",
            "\n",
            "The Company presents derivative assets and liabilities at their gross fair values in the Consolidated Balance Sheets \\[09ceb270-3062-453b-b761-9981bd624649/879370ea-b84f-48e7- 809c-c86b5ba60184/apple.pdf\\].\n",
            "\n",
            "## Shareholders' Equity\n",
            "\n",
            "## Income Statement Analysis\n",
            "\n",
            "## Revenue Sources\n",
            "\n",
            "For the Company's Services net sales, control transfers over time as services are delivered \\[09ceb270-3062-453b-b761-9981bd624649/879370ea-b84f-48e7- 809c-c86b5ba60184/apple.pdf\\].\n",
            "\n",
            "## Operating Expenses\n",
            "\n",
            "## Net Profit Analysis\n",
            "\n",
            "## Cash Flow Statement Analysis\n",
            "\n",
            "## Operating Cash Flow\n",
            "\n",
            "## Investing Cash Flow\n",
            "\n",
            "| Cash Flow Activity | Amount (USD) | | Cash generated by investing activities | 2,935 |\n",
            "| ------------------ | ------------ | | -------------------------------------- | ----- |\n",
            "| | | | | |\n",
            "\n",
            "## Financing Cash Flow\n",
            "\n",
            "| Cash Flow Activity | Amount (USD) | | | | Payments for taxes related to net share settlement | (5,441) | Payments for dividends and dividend equivalents | (15,234) | Repurchases of common stock | (94,949) | Proceeds from issuance of term debt, net | - | Repayments of term debt | (9,958) | Proceeds from/(Repayments of) commercial paper, net | 3,960 | Other | (361) | \\*\\*Cash used in financing activities\\*\\* | \\*\\*(121,983)\\*\\* |\n",
            "| ------------------ | ------------ | | | | -------------------------------------------------- | ------- | ----------------------------------------------- | -------- | --------------------------- | -------- | ---------------------------------------- | - | ----------------------- | ------- | --------------------------------------------------- | ----- | ----- | ----- | ------------------------------------- | ------------- |\n",
            "| | | | | | | | | | | | | | | | | | | | | |\n",
            "\n",
            "## Key Financial Ratios\n",
            "\n",
            "## Liquidity Ratios\n",
            "\n",
            "## Profitability Ratios\n",
            "\n",
            "## Leverage Ratios\n",
            "\n",
            "## Market Performance\n",
            "\n",
            "## Stock Price Trends\n",
            "\n",
            "The Company's stock has experienced substantial price volatility in the past and may continue to do so in the future \\[09ceb270-3062-453b-b761-9981bd624649/879370ea-b84f-48e7- 809c-c86b5ba60184/apple.pdf\\].\n",
            "\n",
            "## Market Capitalization\n",
            "\n",
            "## Dividend Policy\n",
            "\n",
            "Payments for dividends and dividend equivalents amounted to (15,234) \\[09ceb270-3062-453b-b761- 9981bd624649/879370ea-b84f-48e7-809c-c86b5ba60184/apple.pdf\\].\n",
            "\n",
            "## Risk Factors and Challenges\n",
            "\n",
            "## Industry Risks\n",
            "\n",
            "Industry-wide global product pricing pressures and product pricing actions that the Company may take in response to such pressures are considered industry risks \\[09ceb270-3062-453b-b761-9981bd624649/879370ea-b84f-48e7-809c- c86b5ba60184/apple.pdf\\].\n",
            "\n",
            "## Operational Risks\n",
            "\n",
            "Operational risks include issues with new product or service introductions, information technology system failures or network disruptions, or failure of one of the Company's logistics, supply or manufacturing partners \\[09ceb270-3062-453b- b761-9981bd624649/879370ea-b84f-48e7-809c-c86b5ba60184/apple.pdf\\].\n",
            "\n",
            "## Financial Risks\n",
            "\n",
            "Fluctuations in foreign exchange rates may also affect the fair values of certain of the Company's assets and liabilities \\[09ceb270-3062-453b-b761-9981bd624649/879370ea-b84f-48e7- 809c-c86b5ba60184/apple.pdf\\].\n",
            "\n",
            "## Future Outlook and Projections\n",
            "\n",
            "## Revenue Projections\n",
            "\n",
            "## Planned Investments\n",
            "\n",
            "## Challenges and Opportunities\n",
            "\n",
            "## Conclusion\n",
            "\n",
            "## Appendices\n",
            "\n",
            "## Financial Statements\n",
            "\n",
            "* Consolidated Statements of Operations for the years ended September 28, 2024, September 30, 2023 and September 24, 2022 \\* Consolidated Statements of Comprehensive Income for the years ended September 28, 2024, September 30, 2023 and September 24, 2022 \\* Consolidated Balance Sheets as of September 28, 2024 and September 30, 2023 \\* Consolidated Statements of Shareholders' Equity for the years ended September 28, 2024, September 30, 2023 and September 24, 2022 \\* Consolidated Statements of Cash Flows\n",
            "\n",
            "## Supporting Charts and Graphs\n",
            "\n",
            "## References\n",
            "\n",
            "* Apple Inc. 2024 Form 10-K \\[09ceb270-3062-453b-b761-9981bd624649/879370ea- b84f-48e7-809c-c86b5ba60184/apple.pdf\\]\n"
          ]
        }
      ]
    },
    {
      "cell_type": "code",
      "source": [],
      "metadata": {
        "id": "hCLlbeZ3lprg"
      },
      "execution_count": null,
      "outputs": []
    },
    {
      "cell_type": "code",
      "source": [],
      "metadata": {
        "id": "GAbtIAv8lFdB"
      },
      "execution_count": null,
      "outputs": []
    }
  ]
}